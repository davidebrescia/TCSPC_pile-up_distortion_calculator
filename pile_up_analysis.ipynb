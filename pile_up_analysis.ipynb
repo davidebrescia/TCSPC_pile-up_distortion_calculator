{
  "nbformat": 4,
  "nbformat_minor": 0,
  "metadata": {
    "colab": {
      "name": "pile-up analysis.ipynb",
      "provenance": [],
      "collapsed_sections": []
    },
    "kernelspec": {
      "name": "python3",
      "display_name": "Python 3"
    },
    "language_info": {
      "name": "python"
    }
  },
  "cells": [
    {
      "cell_type": "code",
      "metadata": {
        "id": "XMyrw-_RBpUw"
      },
      "source": [
        "# Standard libraries\n",
        "import numpy as np\n",
        "import matplotlib.pyplot as plt"
      ],
      "execution_count": 483,
      "outputs": []
    },
    {
      "cell_type": "markdown",
      "metadata": {
        "id": "crLAakzm9fVf"
      },
      "source": [
        "We're talking about Pile-Up effect of Time-Correlated Single Photon Counting (TCSPC)\n",
        "\n",
        "---\n",
        "\n",
        "I try to simplify at my best:\n",
        "- A laser emits a pulse of light with a certain shape (e.g., gaussian, triangular, custom).  \n",
        "- The pulse is composed of a certain number of photons (*photons*).  \n",
        "- Each of these photons has a probability 'r' of reaching the detector, being absorbed and detected.  \n",
        "- The detector outputs the arrival time-stamp of the very first photon detected.    \n",
        "\n",
        "What's the distribution of these arrival times?  \n",
        "This script answers.\n",
        "\n",
        "---\n",
        "\n",
        "Created by Davide Brescia"
      ]
    },
    {
      "cell_type": "code",
      "metadata": {
        "id": "DClwEW-TCCN9"
      },
      "source": [
        "\"Graphical parameters\"\n",
        "\n",
        "# The problem is discretized into many time bins (choose a value > 200)\n",
        "bins = 5000\n",
        "\n",
        "# ...And analyzed inside a time radius around 'mu'\n",
        "radius = 5\n",
        "\n",
        "# PS 1: Just adjust them til the plots are ok\n",
        "# PS 2: The time unit is arbitrary, you can decide to consider '1' as '1 ps',\n",
        "# '1 ns' or even '1 min'."
      ],
      "execution_count": 484,
      "outputs": []
    },
    {
      "cell_type": "code",
      "metadata": {
        "id": "KYG9FaGUB3lP"
      },
      "source": [
        "\"Laser pulse - Define its shape, its magnitude and its width\"\n",
        "\n",
        "shape       = 'gaussian' # 'gaussian', 'triangular', 'sawtooth', 'rectangle', 'sawtooth_reversed', 'semi-ellipse' or 'custom'\n",
        "photons     = 2e4        # Total number of photons the pulse is composed of\n",
        "mu          = 0          # Center of the pulse (just leave it zero).\n",
        "width       = 1          # Pulse width. For the gaussian is sigma; for the triang/sawt/rect/semi-ellipse is the base"
      ],
      "execution_count": 485,
      "outputs": []
    },
    {
      "cell_type": "code",
      "metadata": {
        "id": "E63YJap5h-8V"
      },
      "source": [
        "\"Here's the pulse amplitude computation. Don't touch, unless 'custom' shape\"\n",
        "\n",
        "if shape == 'gaussian':  \n",
        "  amp = photons * 2 * radius / (bins * width * np.sqrt(2*np.pi))\n",
        "\n",
        "elif shape == 'triangular' or shape == 'sawtooth' or shape == 'sawtooth_reversed':\n",
        "  radius = 5/8 * width                          # In some cases, radius is better to be this one, trust me.\n",
        "  amp = photons * 4 * radius / (bins * width)\n",
        "\n",
        "elif shape == 'rectangle':\n",
        "  radius = 5/8 * width\n",
        "  amp = photons * 2 * radius / (bins * width)\n",
        "\n",
        "elif shape == 'semi-ellipse':\n",
        "  radius = 5/8 * width\n",
        "  amp = photons * 8 * radius / (bins * width * np.pi)\n",
        "\n",
        "elif shape == 'custom':\n",
        "  amp = 0                                       # Here you can touch"
      ],
      "execution_count": 486,
      "outputs": []
    },
    {
      "cell_type": "code",
      "metadata": {
        "id": "apuNaVtbEc9q",
        "colab": {
          "base_uri": "https://localhost:8080/",
          "height": 35
        },
        "outputId": "87fc747a-16bf-459f-a5e0-9e11d963cb40"
      },
      "source": [
        "\"Probability that each emitted photon reaches and triggers the detector\"\n",
        "\n",
        "r = 1e-4\n",
        "\n",
        "# What value do I choose? \n",
        "\n",
        "'r = 1/photons * 0.1'\n",
        "# This is the famous rule of thumb (known as '10% regime').\n",
        "# Just 1 laser pulse over 10 is detected, meaning that 9 over 10 are not even \n",
        "# noticed by the detector. When it is detected, most probably just one photon of\n",
        "# the pulse has reached the detector and the photon belonged to whatever part of\n",
        "# the pulse shape. In this case, by collecting the histogram of the arrival \n",
        "# times (TCSPC), you can easily infer the original laser pulse shape. Indeed, \n",
        "# the orange and the blue plots are basically equal. \n",
        "\n",
        "'r = 1/photons'\n",
        "# In average, the detector notices each laser pulse. In this case, probably more\n",
        "# than 1 photon reaches the detector each time. Consequently, since we can just\n",
        "# collect the time arrivals of the FIRST photon, we have a little distorted\n",
        "# blue plot, it's not equal to the orange one! Attenuate the laser. \n",
        "\n",
        "'r = 0.5'\n",
        "# Very high probability. Means that each emitted photon has 50% of triggering\n",
        "# the detector. The histogram of the arrival times is very much distorted with \n",
        "# respect to the original pulse shape.\n",
        "\n",
        "'r = 0.000000000001'\n",
        "# Very low probability. When the detector detects the pulse (happens very very \n",
        "# rarely), we are almost sure that just one photon of the pulse has reached the\n",
        "# detector (not 2 or more). So, since this photon belonged to a completely \n",
        "# random part of the laser pulse shape, the histogram is practically equal to\n",
        "# the true laser pulse. The drawback is that we need a loooong time to collect \n",
        "# enough data for building the histogram. In general, the '10% regime' rule of\n",
        "# thumb is the optimal trade-off between accuracy and measurement time.  \n",
        "\n",
        "# Try it for yourself!"
      ],
      "execution_count": 487,
      "outputs": [
        {
          "output_type": "execute_result",
          "data": {
            "application/vnd.google.colaboratory.intrinsic+json": {
              "type": "string"
            },
            "text/plain": [
              "'r = 0.000000000001'"
            ]
          },
          "metadata": {},
          "execution_count": 487
        }
      ]
    },
    {
      "cell_type": "code",
      "metadata": {
        "id": "0jAweDypFZMt"
      },
      "source": [
        "# Function used to define the shape of the laser pulse\n",
        "def laser_pulse_function(x, shape, mu, width, amp):\n",
        "\n",
        "  # Gaussian\n",
        "  if shape == 'gaussian':\n",
        "    y = amp*np.exp(-np.power(x - mu, 2.) / (2 * np.power(width, 2.)))\n",
        "\n",
        "  # Triangular\n",
        "  if shape == 'triangular':\n",
        "    if x < mu - width/2 or x > mu + width/2:\n",
        "      y = 0\n",
        "    else:\n",
        "      y = amp*(1 - 2/width * abs(mu - x))\n",
        "\n",
        "  # Sawtooth\n",
        "  if shape == 'sawtooth':\n",
        "    if x < mu - width/2 or x > mu + width/2:\n",
        "      y = 0\n",
        "    else:\n",
        "      y = amp*(1 - (x - mu + width/2) / width)\n",
        "\n",
        "  # Rectangle\n",
        "  if shape == 'rectangle':\n",
        "    if x < mu - width/2 or x > mu + width/2:\n",
        "      y = 0\n",
        "    else:\n",
        "      y = amp\n",
        "\n",
        "  # Sawtooth (reversed)\n",
        "  if shape == 'sawtooth_reversed':\n",
        "    if x < mu - width/2 or x > mu + width/2:\n",
        "      y = 0\n",
        "    else:\n",
        "      y = amp*(x - mu + width/2) / width\n",
        "  \n",
        "  # Semi-ellipse\n",
        "  if shape == 'semi-ellipse':\n",
        "    if x < mu - width/2 or x > mu + width/2:\n",
        "      y = 0\n",
        "    else:\n",
        "      y = 2*amp/width * np.sqrt(width**2/4 - (x-mu)**2)\n",
        "\n",
        "  # Custom function\n",
        "  if shape == 'custom':\n",
        "    # You may define here your custom function, if you desire a pulse of another\n",
        "    # shape. It must be a function of x. Remark: the pulse photons number \n",
        "    # depends on the amplitude, width, but also on the radius and number of\n",
        "    # bins. My suggestion is to guess an amplitude and regulate it by hand until\n",
        "    # the number of photons (it's calculated above the plot) becomes acceptable.\n",
        "    y = 0*x                  \n",
        "\n",
        "  return y"
      ],
      "execution_count": 488,
      "outputs": []
    },
    {
      "cell_type": "code",
      "metadata": {
        "id": "EoTjagxqSH7m"
      },
      "source": [
        "# Function generating the laser pulse values, at the center of each bin\n",
        "def gen_pulse(bin_centers_, shape, mu, width, amp):\n",
        "\n",
        "  pulse_values_ = []\n",
        "\n",
        "  for t in bin_centers_:\n",
        "    pulse_values_.append(laser_pulse_function(t, shape, mu, width, amp))\n",
        "\n",
        "  return pulse_values_"
      ],
      "execution_count": 489,
      "outputs": []
    },
    {
      "cell_type": "code",
      "metadata": {
        "id": "AtXOlzipCUNL"
      },
      "source": [
        "# Generate the centers of the bins\n",
        "bin_centers = []\n",
        "for i in range(bins):\n",
        "  bin_centers.append(mu + radius * (2 * i / bins - 1) + radius / bins)"
      ],
      "execution_count": 490,
      "outputs": []
    },
    {
      "cell_type": "code",
      "metadata": {
        "id": "8Bg8WDVNK9Ub"
      },
      "source": [
        "# At each bin center, calculate the value of the laser pulse (number of photons\n",
        "# emitted in that bin) \n",
        "pulse_values = gen_pulse(bin_centers, shape, mu, width, amp)"
      ],
      "execution_count": 491,
      "outputs": []
    },
    {
      "cell_type": "code",
      "metadata": {
        "id": "q7M_5jn3CADY"
      },
      "source": [
        "# Generate the 'histogram' of the arrival times of the photons on the detector.\n",
        "# Two things:\n",
        "# 1. The source-detector time-of-flight is supposed 0. In this way, by\n",
        "#    overlapping the laser pulse and this 'histogram' you can visualize the \n",
        "#    point of the laser shape from which the photon comes from.\n",
        "# 2. This is not a 'histogram', but a probability density vs arrival time. You\n",
        "#    could see it as a histogram done with +inf data. \n",
        "\n",
        "probabilities = []\n",
        "zero_prob = [1]\n",
        "\n",
        "for i in range(bins):\n",
        "  \n",
        "  t = bin_centers[i]\n",
        "  N = laser_pulse_function(t, shape, mu, width, amp) # Starting photons from the laser in the i-th bin\n",
        "  p_zero = (1-r)**N                                  # Probability that none of such photons arrives on the detector\n",
        "  p_some = 1 - p_zero                                # Probability that one or more of such photons arrive on the detector\n",
        "   \n",
        "  p = p_some * zero_prob[-1]                         # Probability that the very-first-photon belongs to the i-th bin\n",
        "  probabilities.append(p)\n",
        "\n",
        "  zero_prob.append(p_zero*zero_prob[-1])             # I don't feel like explaining this, sorry :/"
      ],
      "execution_count": 492,
      "outputs": []
    },
    {
      "cell_type": "code",
      "metadata": {
        "id": "Z3Xh_MTYMGdS"
      },
      "source": [
        "# Function that normalizes a list \n",
        "def normalize(list_):\n",
        "  \n",
        "  normalized = []\n",
        "\n",
        "  norm = sum(list_)\n",
        "\n",
        "  for elem in list_:\n",
        "    normalized.append( elem/norm )\n",
        "  \n",
        "  return normalized"
      ],
      "execution_count": 493,
      "outputs": []
    },
    {
      "cell_type": "code",
      "metadata": {
        "id": "gnS2mUmISLcv"
      },
      "source": [
        "# Normalize the two plots, so they have equal area and they are comparable.\n",
        "# By doing so, the two plots can be seen as probability density functions.\n",
        "norm_prob = normalize(probabilities)\n",
        "norm_pulse = normalize(pulse_values)"
      ],
      "execution_count": 494,
      "outputs": []
    },
    {
      "cell_type": "code",
      "metadata": {
        "colab": {
          "base_uri": "https://localhost:8080/",
          "height": 573
        },
        "id": "go88srqWJnmQ",
        "outputId": "0b819b7e-9218-43b6-f816-ee9f9b508607"
      },
      "source": [
        "photons_ = sum(pulse_values)    # Photons of the pulse, computed in the brute way. It must be equal to 'photons'. (Used just for double check).\n",
        "av_det_ph = float(r * photons_) # Average photons that reach the detector, per pulse.\n",
        "\n",
        "# It seems that 'av_det_ph' is the parameter that matters. (If you double 'photons_', but halve 'r', the normalized plots are the same). \n",
        "\n",
        "print(\"-------- Parameters --------\")\n",
        "print(\"Pulse photons:\\t\", int(photons_ + 0.5))\n",
        "print(\"Prob. 'r':\\t\", r)\n",
        "\n",
        "plot_string = \"Average ph. on detector, per pulse: \" + \"%.1f\" % av_det_ph\n",
        "\n",
        "plt.figure(figsize=(13,7), dpi = 80)\n",
        "plt.plot(bin_centers, norm_prob)\n",
        "plt.plot(bin_centers, norm_pulse)\n",
        "frame1 = plt.gca()\n",
        "frame1.axes.get_yaxis().set_visible(False)\n",
        "plt.title(\"Probability density functions\")\n",
        "plt.xlabel(\"Time\")\n",
        "plt.legend(['Arrival time of the first-photon detected','Laser pulse shape'])\n",
        "plt.text(0.18, 0.975, plot_string, horizontalalignment='center', verticalalignment='center', transform=frame1.transAxes, fontsize=12, bbox=dict(facecolor='pink', alpha=0.5))\n",
        "\n",
        "print()"
      ],
      "execution_count": 495,
      "outputs": [
        {
          "output_type": "stream",
          "name": "stdout",
          "text": [
            "-------- Parameters --------\n",
            "Pulse photons:\t 20000\n",
            "Prob. 'r':\t 0.0001\n",
            "\n"
          ]
        },
        {
          "output_type": "display_data",
          "data": {
            "image/png": "[encoded data removed]",
            "text/plain": [
              "<Figure size 1040x560 with 1 Axes>"
            ]
          },
          "metadata": {
            "needs_background": "light"
          }
        }
      ]
    }
  ]
}